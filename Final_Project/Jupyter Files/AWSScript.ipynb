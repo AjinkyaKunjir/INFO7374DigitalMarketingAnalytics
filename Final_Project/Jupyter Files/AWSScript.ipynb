{
 "cells": [
  {
   "cell_type": "markdown",
   "metadata": {},
   "source": [
    "\n",
    "# AWS Pipeline"
   ]
  },
  {
   "cell_type": "code",
   "execution_count": 1,
   "metadata": {},
   "outputs": [],
   "source": [
    "#Importing all required libraries:\n",
    "#pip install boto3\n",
    "#pip install psycopg2\n",
    "\n",
    "import boto3\n",
    "import json\n",
    "import psycopg2\n",
    "import datetime"
   ]
  },
  {
   "cell_type": "code",
   "execution_count": 2,
   "metadata": {},
   "outputs": [],
   "source": [
    "#Setting up the AWS Access keys:\n",
    "#NOTE: DO NOT EXPOSE THE ACCESS & SECRET KEYS\n",
    "\n",
    "config_file = open(r'Config.json')\n",
    "config_file = json.loads(config_file.read())\n",
    "\n",
    "access_key = config_file['access_key']\n",
    "secret_access_key = config_file['secret_access_key']"
   ]
  },
  {
   "cell_type": "code",
   "execution_count": 3,
   "metadata": {},
   "outputs": [],
   "source": [
    "#Configuration Parameters:\n",
    "\n",
    "bucket_name = \"info7374s3fnalprojectteam8\"#------------------------------------S3: Name of the creating AWS S3 Bucket\n",
    "\n",
    "policy_name = \"info7374policyfnalprojectteam8\"#----------------------------------IAM: Access policy name\n",
    "iam_role_name = \"info7374rolefnalprojectteam8\"#----------------------------------IAM: IAM Role for the architecural access\n",
    "\n",
    "db_name = \"info7374dbfnalprojectteam8\"#-------------------------------------Redshift: Database Name for gaming data\n",
    "cluster_identifier = \"info7374clusterfnalprojectteam8\"#---------------------Redshift: Redshift Cluster Name\n",
    "master_username = \"root\"#----------------------------------------Redshift: Admin Username\n",
    "master_password = \"Info7374gap\"#---------------------------------Redshift: Admin Password\n",
    "node_type = \"dc2.large\"#-----------------------------------------Redshift: Cluster configuration\n",
    "cluster_type = \"single-node\"#------------------------------------Redshift: Cluster Type\n",
    "availability_zone = \"us-east-1a\"#--------------------------------Redshift: Cluster Availability Zone\n",
    "table_name = \"OlistCustomers\"#------------------------------------Redshift: Database table name\n",
    "kinesis_data_stream_name = \"info7374datastreamfnalprojectteam8\"#-------------Kinesis: Data Stream Name\n",
    "shard_count = 100#------------------------------------------------Kinesis: Data Stream Shard Count\n",
    "\n",
    "log_group_name = \"info7374loggroupfnalprojectteam8\"#------------------------CloudWatch: Log Group Name\n",
    "log_stream_name = \"info7374logstreamfnalprojectteam8\"#------------------------CloudWatch: Log Group Name\n",
    "delivery_stream_name = \"info7374deliverystreamfnalprojectteam8\"#--------------Kinesis: Delivery Stream Name\n",
    "stream_type = \"KinesisStreamAsSource\"#-----------------------------Kinesis: Delivery Stream Type"
   ]
  },
  {
   "cell_type": "code",
   "execution_count": 4,
   "metadata": {},
   "outputs": [
    {
     "name": "stdout",
     "output_type": "stream",
     "text": [
      "{'ResponseMetadata': {'RequestId': '1E587CBE07B973EE', 'HostId': 'nvhni2oqag2vuaJ2tEvNEGyAZzZDuli9EpRXUmeXJKUqEpt1Hm7GkymU2I1x0iNBbUGYZK2sRoc=', 'HTTPStatusCode': 200, 'HTTPHeaders': {'x-amz-id-2': 'nvhni2oqag2vuaJ2tEvNEGyAZzZDuli9EpRXUmeXJKUqEpt1Hm7GkymU2I1x0iNBbUGYZK2sRoc=', 'x-amz-request-id': '1E587CBE07B973EE', 'date': 'Sun, 11 Aug 2019 23:00:01 GMT', 'location': '/info7374s3fnalprojectteam8', 'content-length': '0', 'server': 'AmazonS3'}, 'RetryAttempts': 0}, 'Location': '/info7374s3fnalprojectteam8'}\n"
     ]
    }
   ],
   "source": [
    "#Creating AWS S3 Bucket:\n",
    "\n",
    "s3_client = boto3.client('s3', aws_access_key_id = access_key, aws_secret_access_key = secret_access_key)\n",
    "\n",
    "response_s3 = s3_client.create_bucket(ACL=\"private\", Bucket=bucket_name)\n",
    "print(response_s3)"
   ]
  },
  {
   "cell_type": "code",
   "execution_count": 5,
   "metadata": {},
   "outputs": [
    {
     "name": "stdout",
     "output_type": "stream",
     "text": [
      "arn:aws:s3:::info7374s3fnalprojectteam8\n"
     ]
    }
   ],
   "source": [
    "bucket_arn = \"arn:aws:s3:::\"+bucket_name#---------------------------S3: Bucker ARN\n",
    "print(bucket_arn)"
   ]
  },
  {
   "cell_type": "code",
   "execution_count": 6,
   "metadata": {},
   "outputs": [],
   "source": [
    "#Creating IAM Policy for Architecural access:\n",
    "\n",
    "iam_client = boto3.client('iam', aws_access_key_id = access_key, aws_secret_access_key = secret_access_key)"
   ]
  },
  {
   "cell_type": "code",
   "execution_count": 7,
   "metadata": {},
   "outputs": [],
   "source": [
    "\n",
    "policy_details = {\n",
    "    \"Version\": \"2012-10-17\",\n",
    "    \"Statement\": [\n",
    "        {\n",
    "            \"Sid\": \"\",\n",
    "            \"Effect\": \"Allow\",\n",
    "            \"Action\": [\n",
    "                \"glue:GetTableVersions\"\n",
    "            ],\n",
    "            \"Resource\": \"*\"\n",
    "        },\n",
    "        {\n",
    "            \"Sid\": \"\",\n",
    "            \"Effect\": \"Allow\",\n",
    "            \"Action\": [\n",
    "                \"s3:AbortMultipartUpload\",\n",
    "                \"s3:GetBucketLocation\",\n",
    "                \"s3:GetObject\",\n",
    "                \"s3:ListBucket\",\n",
    "                \"s3:ListBucketMultipartUploads\",\n",
    "                \"s3:PutObject\"\n",
    "            ],\n",
    "            \"Resource\": \"*\"\n",
    "        },\n",
    "        {\n",
    "            \"Sid\": \"\",\n",
    "            \"Effect\": \"Allow\",\n",
    "            \"Action\": [\n",
    "                \"lambda:InvokeFunction\",\n",
    "                \"lambda:GetFunctionConfiguration\"\n",
    "            ],\n",
    "            \"Resource\": \"*\"\n",
    "        },\n",
    "        {\n",
    "            \"Sid\": \"\",\n",
    "            \"Effect\": \"Allow\",\n",
    "            \"Action\": [\n",
    "                \"logs:PutLogEvents\"\n",
    "            ],\n",
    "            \"Resource\": \"*\"\n",
    "        },\n",
    "        {\n",
    "            \"Sid\": \"\",\n",
    "            \"Effect\": \"Allow\",\n",
    "            \"Action\": [\n",
    "                \"kinesis:DescribeStream\",\n",
    "                \"kinesis:GetShardIterator\",\n",
    "                \"kinesis:GetRecords\"\n",
    "            ],\n",
    "            \"Resource\": \"*\"\n",
    "        },\n",
    "        {\n",
    "            \"Effect\": \"Allow\",\n",
    "            \"Action\": [\n",
    "                \"kms:Decrypt\"\n",
    "            ],\n",
    "            \"Resource\": \"*\"\n",
    "        }\n",
    "    ]\n",
    "}"
   ]
  },
  {
   "cell_type": "code",
   "execution_count": 8,
   "metadata": {},
   "outputs": [
    {
     "name": "stdout",
     "output_type": "stream",
     "text": [
      "{'Policy': {'PolicyName': 'info7374policyfnalprojectteam8', 'PolicyId': 'ANPA2LJT624XOCNLPCL5K', 'Arn': 'arn:aws:iam::711462934318:policy/info7374policyfnalprojectteam8', 'Path': '/', 'DefaultVersionId': 'v1', 'AttachmentCount': 0, 'PermissionsBoundaryUsageCount': 0, 'IsAttachable': True, 'CreateDate': datetime.datetime(2019, 8, 11, 23, 1, 3, tzinfo=tzutc()), 'UpdateDate': datetime.datetime(2019, 8, 11, 23, 1, 3, tzinfo=tzutc())}, 'ResponseMetadata': {'RequestId': 'e472b710-bc8b-11e9-b732-47dad839ecd3', 'HTTPStatusCode': 200, 'HTTPHeaders': {'x-amzn-requestid': 'e472b710-bc8b-11e9-b732-47dad839ecd3', 'content-type': 'text/xml', 'content-length': '795', 'date': 'Sun, 11 Aug 2019 23:01:02 GMT'}, 'RetryAttempts': 0}}\n"
     ]
    }
   ],
   "source": [
    "response_iam_policy = iam_client.create_policy(PolicyName=policy_name, PolicyDocument=json.dumps(policy_details))\n",
    "print(response_iam_policy)"
   ]
  },
  {
   "cell_type": "code",
   "execution_count": 9,
   "metadata": {},
   "outputs": [
    {
     "name": "stdout",
     "output_type": "stream",
     "text": [
      "arn:aws:iam::711462934318:policy/info7374policyfnalprojectteam8\n"
     ]
    }
   ],
   "source": [
    "policy_arn = response_iam_policy['Policy']['Arn']#------------------------IAM: Policy ID for assignment\n",
    "print(policy_arn)"
   ]
  },
  {
   "cell_type": "code",
   "execution_count": 10,
   "metadata": {},
   "outputs": [
    {
     "name": "stdout",
     "output_type": "stream",
     "text": [
      "{'Role': {'Path': '/', 'RoleName': 'info7374rolefnalprojectteam8', 'RoleId': 'AROA2LJT624XJ54EQIOTK', 'Arn': 'arn:aws:iam::711462934318:role/info7374rolefnalprojectteam8', 'CreateDate': datetime.datetime(2019, 8, 11, 23, 6, 59, tzinfo=tzutc()), 'AssumeRolePolicyDocument': {'Version': '2012-10-17', 'Statement': [{'Sid': '', 'Effect': 'Allow', 'Principal': {'Service': 'firehose.amazonaws.com'}, 'Action': 'sts:AssumeRole', 'Condition': {'StringEquals': {'sts:ExternalId': '711462934318'}}}]}}, 'ResponseMetadata': {'RequestId': 'b8fef24c-bc8c-11e9-8330-9ba199808f57', 'HTTPStatusCode': 200, 'HTTPHeaders': {'x-amzn-requestid': 'b8fef24c-bc8c-11e9-8330-9ba199808f57', 'content-type': 'text/xml', 'content-length': '948', 'date': 'Sun, 11 Aug 2019 23:06:58 GMT'}, 'RetryAttempts': 0}}\n"
     ]
    }
   ],
   "source": [
    "#Creating IAM Role for Architectural access:\n",
    "\n",
    "assume_role_policy_doc = {\n",
    "  \"Version\": \"2012-10-17\",\n",
    "  \"Statement\": [\n",
    "    {\n",
    "      \"Sid\": \"\",\n",
    "      \"Effect\": \"Allow\",\n",
    "      \"Principal\": {\n",
    "        \"Service\": \"firehose.amazonaws.com\"\n",
    "      },\n",
    "      \"Action\": \"sts:AssumeRole\",\n",
    "      \"Condition\": {\n",
    "        \"StringEquals\": {\n",
    "          \"sts:ExternalId\": \"711462934318\"\n",
    "        }\n",
    "      }\n",
    "    }\n",
    "  ]\n",
    "}\n",
    "\n",
    "response_iam_role = iam_client.create_role(RoleName=iam_role_name, AssumeRolePolicyDocument=json.dumps(assume_role_policy_doc))\n",
    "\n",
    "print(response_iam_role)"
   ]
  },
  {
   "cell_type": "code",
   "execution_count": 11,
   "metadata": {},
   "outputs": [],
   "source": [
    "role_arn = response_iam_role['Role']['Arn']#----------------------------IAM: Role ARN"
   ]
  },
  {
   "cell_type": "code",
   "execution_count": 12,
   "metadata": {},
   "outputs": [
    {
     "name": "stdout",
     "output_type": "stream",
     "text": [
      "{'ResponseMetadata': {'RequestId': 'c8bf8a0e-bc8c-11e9-8330-9ba199808f57', 'HTTPStatusCode': 200, 'HTTPHeaders': {'x-amzn-requestid': 'c8bf8a0e-bc8c-11e9-8330-9ba199808f57', 'content-type': 'text/xml', 'content-length': '212', 'date': 'Sun, 11 Aug 2019 23:07:25 GMT'}, 'RetryAttempts': 0}}\n"
     ]
    }
   ],
   "source": [
    "#Attaching a Policy to a Role:\n",
    "\n",
    "response_iam_role_policy_attach = iam_client.attach_role_policy(PolicyArn=policy_arn,RoleName=iam_role_name)\n",
    "print(response_iam_role_policy_attach)"
   ]
  },
  {
   "cell_type": "code",
   "execution_count": 13,
   "metadata": {},
   "outputs": [
    {
     "name": "stdout",
     "output_type": "stream",
     "text": [
      "{'Cluster': {'ClusterIdentifier': 'info7374clusterfnalprojectteam8', 'NodeType': 'dc2.large', 'ClusterStatus': 'creating', 'ClusterAvailabilityStatus': 'Modifying', 'MasterUsername': 'root', 'DBName': 'info7374dbfnalprojectteam8', 'AutomatedSnapshotRetentionPeriod': 1, 'ManualSnapshotRetentionPeriod': -1, 'ClusterSecurityGroups': [], 'VpcSecurityGroups': [{'VpcSecurityGroupId': 'sg-5147e80b', 'Status': 'active'}], 'ClusterParameterGroups': [{'ParameterGroupName': 'default.redshift-1.0', 'ParameterApplyStatus': 'in-sync'}], 'ClusterSubnetGroupName': 'default', 'VpcId': 'vpc-99cba6e3', 'AvailabilityZone': 'us-east-1a', 'PreferredMaintenanceWindow': 'thu:10:00-thu:10:30', 'PendingModifiedValues': {'MasterUserPassword': '****'}, 'ClusterVersion': '1.0', 'AllowVersionUpgrade': True, 'NumberOfNodes': 1, 'PubliclyAccessible': True, 'Encrypted': False, 'Tags': [], 'EnhancedVpcRouting': False, 'IamRoles': [{'IamRoleArn': 'arn:aws:iam::711462934318:role/info7374rolefnalprojectteam8', 'ApplyStatus': 'adding'}], 'MaintenanceTrackName': 'current', 'DeferredMaintenanceWindows': []}, 'ResponseMetadata': {'RequestId': 'd061e34b-bc8c-11e9-bed7-299255b8c9b2', 'HTTPStatusCode': 200, 'HTTPHeaders': {'x-amzn-requestid': 'd061e34b-bc8c-11e9-bed7-299255b8c9b2', 'content-type': 'text/xml', 'content-length': '2220', 'vary': 'Accept-Encoding', 'date': 'Sun, 11 Aug 2019 23:07:39 GMT'}, 'RetryAttempts': 0}}\n"
     ]
    }
   ],
   "source": [
    "#Creating AWS Redshift Cluster:\n",
    "\n",
    "redshift_client = boto3.client('redshift', region_name='us-east-1', aws_access_key_id = access_key, aws_secret_access_key = secret_access_key)\n",
    "\n",
    "response_redshift = redshift_client.create_cluster(\n",
    "    DBName=db_name,\n",
    "    ClusterIdentifier=cluster_identifier,\n",
    "    ClusterType=cluster_type,\n",
    "    NodeType=node_type,\n",
    "    MasterUsername=master_username,\n",
    "    MasterUserPassword=master_password,\n",
    "    AvailabilityZone=availability_zone,\n",
    "    IamRoles=[role_arn],\n",
    "    PubliclyAccessible=True)\n",
    "\n",
    "print(response_redshift)"
   ]
  },
  {
   "cell_type": "code",
   "execution_count": 14,
   "metadata": {},
   "outputs": [
    {
     "name": "stdout",
     "output_type": "stream",
     "text": [
      "{'Clusters': [{'ClusterIdentifier': 'info7374clusterfnalprojectteam8', 'NodeType': 'dc2.large', 'ClusterStatus': 'available', 'ClusterAvailabilityStatus': 'Unavailable', 'MasterUsername': 'root', 'DBName': 'info7374dbfnalprojectteam8', 'Endpoint': {'Address': 'info7374clusterfnalprojectteam8.cf3cwiqaf3ud.us-east-1.redshift.amazonaws.com', 'Port': 5439}, 'ClusterCreateTime': datetime.datetime(2019, 8, 11, 23, 14, 48, 141000, tzinfo=tzutc()), 'AutomatedSnapshotRetentionPeriod': 1, 'ManualSnapshotRetentionPeriod': -1, 'ClusterSecurityGroups': [], 'VpcSecurityGroups': [{'VpcSecurityGroupId': 'sg-5147e80b', 'Status': 'active'}], 'ClusterParameterGroups': [{'ParameterGroupName': 'default.redshift-1.0', 'ParameterApplyStatus': 'in-sync'}], 'ClusterSubnetGroupName': 'default', 'VpcId': 'vpc-99cba6e3', 'AvailabilityZone': 'us-east-1a', 'PreferredMaintenanceWindow': 'thu:10:00-thu:10:30', 'PendingModifiedValues': {}, 'ClusterVersion': '1.0', 'AllowVersionUpgrade': True, 'NumberOfNodes': 1, 'PubliclyAccessible': True, 'Encrypted': False, 'ClusterPublicKey': 'ssh-rsa AAAAB3NzaC1yc2EAAAADAQABAAABAQCHHApmrRiUcTJIw7+U/YgNO7ML6H7pT1NOVQBCCFyareujsUoILzt5QFPuqwcBm6zoXinwIKtt2RFJDTjZ3gel3AoqX7hqzv15gd6rmCYb7x/28QQ/YVtq+2+jQUQjImm/De+tPxHioa+7fyBTjoFODFdmgQXCr+SRESrC/lZWEhlC3YzoAzvXuubkMREq2pT9fUGcaH5ujbQ12GuTRTndRFDyUCV8lhN9lV3/lcWfc9ApSoVLLvQs6qEAG2HNoo+ZpIf9weLdJF7XtF/MUoZtsKKWX3Pln79cX8w1zYsNQr9S4mpHHh9H9je6ohdChY8gPQUJiS1uao7AVM6yNGxf Amazon-Redshift\\n', 'ClusterNodes': [{'NodeRole': 'SHARED', 'PrivateIPAddress': '172.31.21.216', 'PublicIPAddress': '34.193.212.140'}], 'ClusterRevisionNumber': '9237', 'Tags': [], 'EnhancedVpcRouting': False, 'IamRoles': [{'IamRoleArn': 'arn:aws:iam::711462934318:role/info7374rolefnalprojectteam8', 'ApplyStatus': 'in-sync'}], 'MaintenanceTrackName': 'current', 'DeferredMaintenanceWindows': []}], 'ResponseMetadata': {'RequestId': 'ed27cdef-bc8d-11e9-ba71-a530fa50707f', 'HTTPStatusCode': 200, 'HTTPHeaders': {'x-amzn-requestid': 'ed27cdef-bc8d-11e9-ba71-a530fa50707f', 'content-type': 'text/xml', 'content-length': '3269', 'vary': 'Accept-Encoding', 'date': 'Sun, 11 Aug 2019 23:15:36 GMT'}, 'RetryAttempts': 0}}\n"
     ]
    }
   ],
   "source": [
    "#Describe AWS Redshift Cluster to get an endpoint:\n",
    "\n",
    "response_redshift_desc = redshift_client.describe_clusters(ClusterIdentifier=cluster_identifier)\n",
    "print(response_redshift_desc)"
   ]
  },
  {
   "cell_type": "code",
   "execution_count": 15,
   "metadata": {},
   "outputs": [],
   "source": [
    "hostname = response_redshift_desc['Clusters'][0]['Endpoint']['Address']#----------------Redshift: Hostname for database\n",
    "port_number = response_redshift_desc['Clusters'][0]['Endpoint']['Port']#----------------Redshift: Port Number for databse"
   ]
  },
  {
   "cell_type": "code",
   "execution_count": 16,
   "metadata": {},
   "outputs": [
    {
     "name": "stdout",
     "output_type": "stream",
     "text": [
      "info7374clusterfnalprojectteam8.cf3cwiqaf3ud.us-east-1.redshift.amazonaws.com\n"
     ]
    }
   ],
   "source": [
    "print(hostname)"
   ]
  },
  {
   "cell_type": "code",
   "execution_count": 17,
   "metadata": {},
   "outputs": [],
   "source": [
    "#Creating Database table on Redshift:\n",
    "\n",
    "con = psycopg2.connect(dbname= db_name, host= hostname, port= port_number, user= master_username, password= master_password)\n",
    "\n",
    "con.set_session(autocommit=True)\n",
    "cur = con.cursor()"
   ]
  },
  {
   "cell_type": "code",
   "execution_count": null,
   "metadata": {},
   "outputs": [],
   "source": [
    "query = \"create table OlistCustomers (\\n\"\n",
    "query+= \"customer_id varchar(200),\\n\"\n",
    "query+= \"customer_unique_id varchar(200),\\n\"\n",
    "query+= \"customer_zip_code_prefix Integer,\\n\"\n",
    "query+= \"customer_city varchar(200),\\n\"\n",
    "query+= \"customer_state varchar(200));\"\n",
    "\n",
    "print(query)"
   ]
  },
  {
   "cell_type": "code",
   "execution_count": null,
   "metadata": {},
   "outputs": [],
   "source": [
    "cur.execute(query)"
   ]
  },
  {
   "cell_type": "code",
   "execution_count": null,
   "metadata": {},
   "outputs": [],
   "source": [
    "#Creating Kinesis Stream:\n",
    "\n",
    "kinesis_client = boto3.client('kinesis', region_name='us-east-1', aws_access_key_id = access_key, aws_secret_access_key = secret_access_key)\n",
    "\n",
    "response_kinesis_data_stream = kinesis_client.create_stream(StreamName=kinesis_data_stream_name,ShardCount=shard_count)\n",
    "print(response_kinesis_data_stream)"
   ]
  },
  {
   "cell_type": "code",
   "execution_count": null,
   "metadata": {},
   "outputs": [],
   "source": [
    "response_kinesis_data_stream_desc = kinesis_client.describe_stream(StreamName=kinesis_data_stream_name)\n",
    "print(response_kinesis_data_stream_desc)"
   ]
  },
  {
   "cell_type": "code",
   "execution_count": null,
   "metadata": {},
   "outputs": [],
   "source": [
    "kinesis_stream_arn = response_kinesis_data_stream_desc['StreamDescription']['StreamARN']#-----------------------Kinesis: Datastream ARN\n",
    "print(kinesis_stream_arn)"
   ]
  },
  {
   "cell_type": "code",
   "execution_count": null,
   "metadata": {},
   "outputs": [],
   "source": [
    "#Creating Kinesis Delivery Stream: Firehose\n",
    "\n",
    "firehose_client = boto3.client('firehose', region_name='us-east-1', aws_access_key_id = access_key, aws_secret_access_key = secret_access_key)\n",
    "\n",
    "cluster_jdbc_url = \"jdbc:redshift://\"+hostname+\":\"+str(port_number)+\"/\"+db_name\n",
    "print(cluster_jdbc_url)"
   ]
  },
  {
   "cell_type": "code",
   "execution_count": null,
   "metadata": {},
   "outputs": [],
   "source": [
    "role_arn = \"arn:aws:iam::711462934318:role/info7374rolefnalprojectteam8\""
   ]
  },
  {
   "cell_type": "code",
   "execution_count": null,
   "metadata": {},
   "outputs": [],
   "source": [
    "response_firehose = firehose_client.create_delivery_stream(\n",
    "    DeliveryStreamName = delivery_stream_name,\n",
    "    DeliveryStreamType = stream_type,\n",
    "    KinesisStreamSourceConfiguration={\n",
    "        'KinesisStreamARN': kinesis_stream_arn,\n",
    "        'RoleARN': role_arn\n",
    "    },\n",
    "    RedshiftDestinationConfiguration={\n",
    "        'RoleARN': role_arn,\n",
    "        'ClusterJDBCURL': cluster_jdbc_url,\n",
    "        'CopyCommand': {\n",
    "            'DataTableName': 'OlistCustomers',\n",
    "            'DataTableColumns': 'customer_id,customer_unique_id,customer_zip_code_prefix,customer_city,customer_state',\n",
    "            'CopyOptions': \"json 'auto'\"\n",
    "        },\n",
    "        'Username': master_username,\n",
    "        'Password': master_password,\n",
    "        'S3Configuration': {\n",
    "            'RoleARN': role_arn,\n",
    "            'BucketARN': bucket_arn,\n",
    "            'BufferingHints': {\n",
    "                'IntervalInSeconds': 60\n",
    "            }\n",
    "        }\n",
    "    })\n",
    "\n",
    "print(response_firehose)"
   ]
  },
  {
   "cell_type": "code",
   "execution_count": null,
   "metadata": {},
   "outputs": [],
   "source": [
    "#Real-time data streaming:\n",
    "\n",
    "kinesis_delivery_client = boto3.client('kinesis', region_name=\"us-east-1\", aws_access_key_id = access_key, aws_secret_access_key = secret_access_key)"
   ]
  },
  {
   "cell_type": "code",
   "execution_count": null,
   "metadata": {},
   "outputs": [],
   "source": [
    "import pandas as pd\n",
    "#Reading the csv file\n",
    "data_file = r'olist_customers_dataset.csv'\n",
    "data = pd.read_csv(data_file)\n",
    "data.head()"
   ]
  },
  {
   "cell_type": "code",
   "execution_count": null,
   "metadata": {},
   "outputs": [],
   "source": [
    "data.columns"
   ]
  },
  {
   "cell_type": "code",
   "execution_count": null,
   "metadata": {},
   "outputs": [],
   "source": [
    "data.shape[0]"
   ]
  },
  {
   "cell_type": "code",
   "execution_count": null,
   "metadata": {},
   "outputs": [],
   "source": [
    "data.info()"
   ]
  },
  {
   "cell_type": "code",
   "execution_count": null,
   "metadata": {},
   "outputs": [],
   "source": [
    "for i in range(0,data.shape[0]):\n",
    "    customer_id = data['customer_id'][i]\n",
    "    customer_unique_id = data['customer_unique_id'][i]\n",
    "    customer_zip_code_prefix = int(data['customer_zip_code_prefix'][i])\n",
    "    customer_city = data['customer_city'][i]\n",
    "    customer_state = data['customer_state'][i]\n",
    "\n",
    "\n",
    "    data_row = {\"customer_id\":customer_id,\"customer_unique_id\":customer_unique_id,\"customer_zip_code_prefix\":customer_zip_code_prefix,\n",
    "             \"customer_city\":customer_city, \"customer_state\":customer_state}\n",
    "    data_row = json.dumps(data_row)\n",
    "    data_row = bytes(data_row, 'utf-8')\n",
    "    formatted_records = [{'PartitionKey': \"pk\",'Data': data_row}]\n",
    "    print(formatted_records)\n",
    "    delivery_stream_name = kinesis_data_stream_name\n",
    "    response = kinesis_delivery_client.put_records(StreamName=delivery_stream_name, Records=formatted_records)"
   ]
  },
  {
   "cell_type": "code",
   "execution_count": null,
   "metadata": {},
   "outputs": [],
   "source": [
    "response"
   ]
  },
  {
   "cell_type": "code",
   "execution_count": null,
   "metadata": {},
   "outputs": [],
   "source": [
    "#Now we will demolish the complete architecture:\n",
    "\n",
    "#Delete Redshift Cluster:\n",
    "response_delete_redshift = redshift_client.delete_cluster(\n",
    "    ClusterIdentifier=cluster_identifier,\n",
    "    SkipFinalClusterSnapshot=True\n",
    ")\n",
    "\n",
    "print(response_delete_redshift)"
   ]
  },
  {
   "cell_type": "code",
   "execution_count": null,
   "metadata": {},
   "outputs": [],
   "source": [
    "#Delete Kinesis Delivery stream:\n",
    "response_delete_firehose = firehose_client.delete_delivery_stream(DeliveryStreamName=delivery_stream_name)\n",
    "print(response_delete_firehose)"
   ]
  },
  {
   "cell_type": "code",
   "execution_count": null,
   "metadata": {},
   "outputs": [],
   "source": [
    "#Delete Kinesis Data stream:\n",
    "response_delete_data_stream = kinesis_client.delete_stream(StreamName=kinesis_data_stream_name,EnforceConsumerDeletion=True)\n",
    "print(response_delete_data_stream)"
   ]
  },
  {
   "cell_type": "code",
   "execution_count": null,
   "metadata": {},
   "outputs": [],
   "source": [
    "#Delete S3 Bucket:\n",
    "\n",
    "#All of the Objects in a bucket must be deleted before the bucket itself can be deleted:\n",
    "\n",
    "s3 = boto3.resource('s3', aws_access_key_id = access_key, aws_secret_access_key = secret_access_key)\n",
    "bucket = s3.Bucket(bucket_name)\n",
    "\n",
    "for key in bucket.objects.all():\n",
    "    key.delete()\n",
    "bucket.delete()\n",
    "\n",
    "print(\"Bucket deleted successfully!\")"
   ]
  },
  {
   "cell_type": "code",
   "execution_count": null,
   "metadata": {},
   "outputs": [],
   "source": [
    "#Delete IAM Role:\n",
    "\n",
    "response_detach_policy = iam_client.detach_role_policy(PolicyArn=policy_arn,RoleName=iam_role_name)\n",
    "print(response_detach_policy)\n",
    "\n",
    "response_delete_role = iam_client.delete_role(RoleName=iam_role_name)\n",
    "print(response_delete_role)"
   ]
  },
  {
   "cell_type": "code",
   "execution_count": null,
   "metadata": {},
   "outputs": [],
   "source": [
    "#Delete IAM Policy:\n",
    "\n",
    "response_delete_policy = iam_client.delete_policy(PolicyArn=policy_arn)\n",
    "print(response_delete_policy)"
   ]
  }
 ],
 "metadata": {
  "kernelspec": {
   "display_name": "Python 3",
   "language": "python",
   "name": "python3"
  },
  "language_info": {
   "codemirror_mode": {
    "name": "ipython",
    "version": 3
   },
   "file_extension": ".py",
   "mimetype": "text/x-python",
   "name": "python",
   "nbconvert_exporter": "python",
   "pygments_lexer": "ipython3",
   "version": "3.6.4"
  }
 },
 "nbformat": 4,
 "nbformat_minor": 2
}
